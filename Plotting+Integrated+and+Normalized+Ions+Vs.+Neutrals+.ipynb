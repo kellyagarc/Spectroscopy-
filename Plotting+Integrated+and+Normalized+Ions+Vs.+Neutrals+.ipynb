{
 "cells": [
  {
   "cell_type": "code",
   "execution_count": 4,
   "metadata": {
    "collapsed": true
   },
   "outputs": [],
   "source": [
    "import matplotlib\n",
    "import matplotlib.pyplot as plt\n",
    "%matplotlib inline\n",
    "import os.path \n",
    "from os import listdir\n",
    "import os, sys"
   ]
  },
  {
   "cell_type": "code",
   "execution_count": 5,
   "metadata": {},
   "outputs": [
    {
     "name": "stderr",
     "output_type": "stream",
     "text": [
      "/Users/madeleinejoseph/anaconda/lib/python2.7/site-packages/IPython/html.py:14: ShimWarning: The `IPython.html` package has been deprecated since IPython 4.0. You should import from `notebook` instead. `IPython.html.widgets` has moved to `ipywidgets`.\n",
      "  \"`IPython.html.widgets` has moved to `ipywidgets`.\", ShimWarning)\n"
     ]
    }
   ],
   "source": [
    "from IPython.core.display import HTML\n",
    "from IPython.core.pylabtools import figsize\n",
    "from ipywidgets import interact, interactive, fixed\n",
    "from IPython.display import clear_output, display, HTML\n",
    "from IPython.html import widgets\n",
    "from PIL import Image"
   ]
  },
  {
   "cell_type": "code",
   "execution_count": 6,
   "metadata": {
    "collapsed": true
   },
   "outputs": [],
   "source": [
    "import numpy as np\n",
    "import math as m\n",
    "import csv\n",
    "\n",
    "from numpy import trapz"
   ]
  },
  {
   "cell_type": "code",
   "execution_count": 7,
   "metadata": {},
   "outputs": [
    {
     "name": "stdout",
     "output_type": "stream",
     "text": [
      "Port3 2.4kW 25sccm 2.0mT Forward 2017-08-27 no avg.txt\n",
      "Port3 2.4kW 25sccm 2.0mT Reverse 2017-08-27 no avg.txt\n"
     ]
    },
    {
     "data": {
      "text/plain": [
       "(72960, 72960, 72960, 72960)"
      ]
     },
     "execution_count": 7,
     "metadata": {},
     "output_type": "execute_result"
    }
   ],
   "source": [
    "path = \"/Users/madeleinejoseph/Downloads/2.4kW 2.0mT/\"\n",
    "dirs = os.listdir(path)\n",
    "wavelength = []\n",
    "intensity = []\n",
    "current = []\n",
    "magnetic_field = []\n",
    "for filename in dirs:\n",
    "    print filename\n",
    "    reader = csv.reader(open(path + filename), delimiter='\\n')\n",
    "    result = np.array(list(reader))\n",
    "    for i in range(0,len(result)):\n",
    "        p = result[i]\n",
    "        dat = p[0].split()\n",
    "        w = float(dat[0])\n",
    "        i = float(dat[1])\n",
    "        c = float(dat[2])\n",
    "        b = float(dat[3])\n",
    "        wavelength.append(w)\n",
    "        intensity.append(i)\n",
    "        current.append(c)\n",
    "        magnetic_field.append(b)\n",
    "                \n",
    "len(wavelength), len(intensity), len(current), len(magnetic_field)\n",
    "\n",
    "\n",
    "  "
   ]
  },
  {
   "cell_type": "code",
   "execution_count": 10,
   "metadata": {},
   "outputs": [],
   "source": [
    "new_wavelength = [wavelength[i:i+3648] for i in range(0, len(wavelength), 3648)]\n",
    "new_intensity = [intensity[i:i+3648] for i in range(0,len(intensity), 3648)]\n",
    "new_b = [magnetic_field[i:i+3648] for i in range(0,len(magnetic_field), 3648)]\n",
    "new_c = [current[i:i+3648] for i in range(0,len(current), 3648)]\n",
    "#There are 3648 data points taken for each magnetic field, so every 3648 points there is a new magnetic field value "
   ]
  },
  {
   "cell_type": "code",
   "execution_count": 11,
   "metadata": {},
   "outputs": [
    {
     "data": {
      "text/plain": [
       "(20,\n",
       " 20,\n",
       " [1216.0,\n",
       "  1246.15,\n",
       "  1276.3,\n",
       "  1306.45,\n",
       "  1336.6,\n",
       "  1366.75,\n",
       "  1396.9,\n",
       "  1427.05,\n",
       "  1457.2,\n",
       "  1487.35,\n",
       "  1487.35,\n",
       "  1457.2,\n",
       "  1427.05,\n",
       "  1396.9,\n",
       "  1366.75,\n",
       "  1336.6,\n",
       "  1306.45,\n",
       "  1276.3,\n",
       "  1246.15,\n",
       "  1216.0],\n",
       " [400.0,\n",
       "  410.0,\n",
       "  420.0,\n",
       "  430.0,\n",
       "  440.0,\n",
       "  450.0,\n",
       "  460.0,\n",
       "  470.0,\n",
       "  480.0,\n",
       "  490.0,\n",
       "  490.0,\n",
       "  480.0,\n",
       "  470.0,\n",
       "  460.0,\n",
       "  450.0,\n",
       "  440.0,\n",
       "  430.0,\n",
       "  420.0,\n",
       "  410.0,\n",
       "  400.0])"
      ]
     },
     "execution_count": 11,
     "metadata": {},
     "output_type": "execute_result"
    }
   ],
   "source": [
    "b_field2 = []\n",
    "current2 = []\n",
    "for i in range(0, len(new_b)):\n",
    "    a = new_b[i][4]\n",
    "    b = new_c[i][1]\n",
    "    b_field2.append(a)\n",
    "    current2.append(b)\n",
    "    \n",
    "len(b_field2), len(current2), b_field2, current2"
   ]
  },
  {
   "cell_type": "code",
   "execution_count": 23,
   "metadata": {},
   "outputs": [],
   "source": [
    "ioni_3 = [] #integrated ions in port 3\n",
    "neui_3 = [] #integrated neutrals in port 3 \n",
    "\n",
    "for i in range(0, len(new_wavelength)):\n",
    "    x = new_wavelength[i]\n",
    "    y = new_intensity[i]\n",
    "    intgr_ion = np.trapz(y[85:1025],x[85:1025])\n",
    "    intgr_neu = np.trapz(y[1550:3050],x[1550:3050])\n",
    "    ioni_3.append(intgr_ion)\n",
    "    neui_3.append(intgr_neu)\n",
    "    \n",
    "\n"
   ]
  },
  {
   "cell_type": "code",
   "execution_count": 41,
   "metadata": {},
   "outputs": [],
   "source": [
    "#spitting into forward and reverse \n",
    "ioni_3f = ioni_3[:10]\n",
    "ioni_3r = ioni_3[10:]\n",
    "neui_3f = neui_3[:10]\n",
    "neui_3r = neui_3[10:]\n",
    "b_field2f = b_field2[:10]\n",
    "b_field2r = b_field2[10:]\n"
   ]
  },
  {
   "cell_type": "code",
   "execution_count": 35,
   "metadata": {},
   "outputs": [
    {
     "data": {
      "text/plain": [
       "(array([ 1.        ,  0.97287314,  0.94892248,  0.88224025,  0.8309211 ,\n",
       "         0.36452114,  0.37898664,  0.39050868,  0.38284629,  0.36972636]),\n",
       " array([ 0.37831041,  0.37034387,  0.36236231,  0.35957722,  0.36872632,\n",
       "         0.8603868 ,  0.9078911 ,  0.93165883,  0.9684578 ,  1.        ]),\n",
       " array([ 1.        ,  0.99686147,  0.99454991,  0.98586651,  0.97215145,\n",
       "         0.71666852,  0.728199  ,  0.73082844,  0.71610431,  0.70173417]),\n",
       " array([ 0.68697881,  0.69005963,  0.69817736,  0.69869806,  0.70247852,\n",
       "         0.96097056,  0.97556629,  0.98144545,  0.99259969,  1.        ]))"
      ]
     },
     "execution_count": 35,
     "metadata": {},
     "output_type": "execute_result"
    }
   ],
   "source": [
    "#Normalizing \n",
    "ioni_3fn = ioni_3f/max(ioni_3f)\n",
    "ioni_3rn = ioni_3r/max(ioni_3r)\n",
    "neui_3fn = neui_3f/max(neui_3f)\n",
    "neui_3rn = neui_3r/max(neui_3r)\n",
    "#check to make sure everything worked out\n",
    "ioni_3fn, ioni_3rn, neui_3fn, neui_3rn"
   ]
  },
  {
   "cell_type": "code",
   "execution_count": 58,
   "metadata": {},
   "outputs": [
    {
     "data": {
      "text/plain": [
       "<matplotlib.text.Text at 0x117073590>"
      ]
     },
     "execution_count": 58,
     "metadata": {},
     "output_type": "execute_result"
    },
    {
     "data": {
      "image/png": "[encoded data removed]",
      "text/plain": [
       "<matplotlib.figure.Figure at 0x117345990>"
      ]
     },
     "metadata": {},
     "output_type": "display_data"
    }
   ],
   "source": [
    "#PLOTTING\n",
    "fg, ((ax1,ax2), (ax3,ax4)) = plt.subplots(2, 2, sharex='col', sharey='row', figsize=(15,7) )\n",
    "    #this allows you to make the 4 plots\n",
    "    #ax1 is top left plot, ax2 is top right plot, ax3 is bottom left......\n",
    "ax1.plot(b_field2f,ioni_3fn, '-o', color='b', label='Integrated Ions')\n",
    "ax1.plot(b_field2f,neui_3fn, '-o', color='r', label='Integrated Neutrals')\n",
    "ax1.set_title('2.4KW 2.0mTorr Forward Integrated Ions vs. Integrated Neutrals')\n",
    "ax1.set_xlabel('Magnetic Field (Gauss)')\n",
    "ax1.set_ylabel('Integrated Intensity (aritrary units)')\n",
    "ax1.legend()\n",
    "\n",
    "\n",
    "ax3.plot(b_field2r,ioni_3rn, '-o', color='c', label='Integrated ions')\n",
    "ax3.plot(b_field2r,neui_3rn, '-o', color='y', label='Integrated ions')\n",
    "ax3.set_title('2.4KW 2.0mTorr Reverse Integrated Ions vs. Integrated Neutrals')\n",
    "ax3.set_xlabel('Magentic Field (Gauss)')\n",
    "ax3.set_ylabel('Integrated Intensity (abribitrary units)')\n"
   ]
  },
  {
   "cell_type": "code",
   "execution_count": null,
   "metadata": {
    "collapsed": true
   },
   "outputs": [],
   "source": []
  }
 ],
 "metadata": {
  "kernelspec": {
   "display_name": "Python 2",
   "language": "python",
   "name": "python2"
  },
  "language_info": {
   "codemirror_mode": {
    "name": "ipython",
    "version": 2
   },
   "file_extension": ".py",
   "mimetype": "text/x-python",
   "name": "python",
   "nbconvert_exporter": "python",
   "pygments_lexer": "ipython2",
   "version": "2.7.13"
  }
 },
 "nbformat": 4,
 "nbformat_minor": 2
}
